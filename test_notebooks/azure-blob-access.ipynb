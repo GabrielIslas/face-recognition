{
 "cells": [
  {
   "cell_type": "markdown",
   "metadata": {},
   "source": [
    "# Accessing Azure Blob Storage\n",
    "The purpose of this notebook is to showcase how to access Blob Storage through Python"
   ]
  },
  {
   "cell_type": "markdown",
   "metadata": {},
   "source": [
    "## 1. Uploading images"
   ]
  },
  {
   "cell_type": "code",
   "execution_count": 1,
   "metadata": {},
   "outputs": [],
   "source": [
    "from dotenv import load_dotenv\n",
    "import os\n",
    "from azure.identity import DefaultAzureCredential\n",
    "from azure.storage.blob import BlobServiceClient, BlobClient, ContainerClient"
   ]
  },
  {
   "cell_type": "code",
   "execution_count": 2,
   "metadata": {},
   "outputs": [
    {
     "data": {
      "text/plain": [
       "True"
      ]
     },
     "execution_count": 2,
     "metadata": {},
     "output_type": "execute_result"
    }
   ],
   "source": [
    "load_dotenv(\"../.env\")"
   ]
  },
  {
   "cell_type": "code",
   "execution_count": 3,
   "metadata": {},
   "outputs": [],
   "source": [
    "credential = DefaultAzureCredential()"
   ]
  },
  {
   "cell_type": "code",
   "execution_count": 4,
   "metadata": {},
   "outputs": [],
   "source": [
    "blob_service_client = BlobServiceClient(os.environ[\"BLOB_URL\"], credential)"
   ]
  },
  {
   "cell_type": "code",
   "execution_count": 5,
   "metadata": {},
   "outputs": [
    {
     "name": "stdout",
     "output_type": "stream",
     "text": [
      "images\n",
      "model\n"
     ]
    }
   ],
   "source": [
    "list_containers = blob_service_client.list_containers()\n",
    "for container in list_containers:\n",
    "    print(container.name)"
   ]
  },
  {
   "cell_type": "code",
   "execution_count": 6,
   "metadata": {},
   "outputs": [],
   "source": [
    "images_container_client = blob_service_client.get_container_client(\"images\")"
   ]
  },
  {
   "cell_type": "code",
   "execution_count": 7,
   "metadata": {},
   "outputs": [],
   "source": [
    "list_blobs_images = images_container_client.list_blobs()"
   ]
  },
  {
   "cell_type": "code",
   "execution_count": 8,
   "metadata": {},
   "outputs": [
    {
     "name": "stdout",
     "output_type": "stream",
     "text": [
      "\t2009151/1.JPG\n",
      "\t2009151/2.JPG\n",
      "\t2009151/3.JPG\n",
      "\t2109020/1.png\n",
      "\t2109020/2.png\n",
      "\t2109020/3.png\n",
      "\t2109020/4.png\n",
      "\t2109155/1.jfif\n",
      "\t2109155/2.jfif\n",
      "\t2109155/3.jfif\n",
      "\t2109155/4.jfif\n",
      "\t2109165/1.jpeg\n",
      "\t2109165/2.jpeg\n",
      "\t2109165/3.jpeg\n",
      "\t2109165/4.jpeg\n"
     ]
    }
   ],
   "source": [
    "for blob in list_blobs_images:\n",
    "    print(\"\\t\" + blob.name)"
   ]
  },
  {
   "cell_type": "code",
   "execution_count": 9,
   "metadata": {},
   "outputs": [],
   "source": [
    "for i in range(1, 5):\n",
    "    file_path = \"../data/images/2109084/\" + str(i) + \".jpg\"\n",
    "    blob_name = \"2109084/\" + str(i) + \".jpg\"\n",
    "    blob_client = images_container_client.get_blob_client(blob_name)\n",
    "    with open(file_path, mode=\"rb\") as data:\n",
    "        blob_client.upload_blob(data)"
   ]
  },
  {
   "cell_type": "markdown",
   "metadata": {},
   "source": [
    "## 2. Downloading images"
   ]
  },
  {
   "cell_type": "code",
   "execution_count": 11,
   "metadata": {},
   "outputs": [],
   "source": [
    "blob_client = images_container_client.get_blob_client(\"2109084/1.jpg\")\n",
    "with open(file=\"1.jpg\", mode=\"wb\") as sample_blob:\n",
    "    download_stream = blob_client.download_blob()\n",
    "    sample_blob.write(download_stream.readall())"
   ]
  }
 ],
 "metadata": {
  "kernelspec": {
   "display_name": "face_recognition",
   "language": "python",
   "name": "python3"
  },
  "language_info": {
   "codemirror_mode": {
    "name": "ipython",
    "version": 3
   },
   "file_extension": ".py",
   "mimetype": "text/x-python",
   "name": "python",
   "nbconvert_exporter": "python",
   "pygments_lexer": "ipython3",
   "version": "3.13.0"
  }
 },
 "nbformat": 4,
 "nbformat_minor": 2
}
